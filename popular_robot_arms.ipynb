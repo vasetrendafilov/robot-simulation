{
 "cells": [
  {
   "cell_type": "markdown",
   "metadata": {},
   "source": [
    "# Import and interact with popular robot arms"
   ]
  },
  {
   "cell_type": "code",
   "execution_count": 1,
   "metadata": {},
   "outputs": [],
   "source": [
    "from packages.robot_arm import RobotArm\n",
    "from packages.pybullet_sim import PybulletSimulation"
   ]
  },
  {
   "cell_type": "markdown",
   "metadata": {},
   "source": [
    "## Franka Emirka panda robot arm"
   ]
  },
  {
   "cell_type": "code",
   "execution_count": 2,
   "metadata": {},
   "outputs": [],
   "source": [
    "robot = RobotArm()\n",
    "robot.import_foreign_robot_arm('robot_arms/panda/panda.urdf',)\n",
    "robot.set_attachment_targets((0.2,0.2), (0,0))\n",
    "robot.interact()"
   ]
  },
  {
   "cell_type": "markdown",
   "metadata": {},
   "source": [
    "## xArm robot arm"
   ]
  },
  {
   "cell_type": "code",
   "execution_count": 2,
   "metadata": {},
   "outputs": [],
   "source": [
    "sim = PybulletSimulation()\n",
    "sim.load_playground_2()\n",
    "robot = RobotArm((-2,0,0))\n",
    "robot.import_foreign_robot_arm('robot_arms/xarm/xarm6_with_gripper.urdf')\n",
    "robot.set_attachment_targets([0]*6, [0.6981]*6)\n",
    "robot.interact('inverse',z_range=(0,5,2))"
   ]
  },
  {
   "cell_type": "code",
   "execution_count": null,
   "metadata": {},
   "outputs": [],
   "source": []
  }
 ],
 "metadata": {
  "kernelspec": {
   "display_name": "mejbi",
   "language": "python",
   "name": "python3"
  },
  "language_info": {
   "codemirror_mode": {
    "name": "ipython",
    "version": 3
   },
   "file_extension": ".py",
   "mimetype": "text/x-python",
   "name": "python",
   "nbconvert_exporter": "python",
   "pygments_lexer": "ipython3",
   "version": "3.11.0"
  },
  "vscode": {
   "interpreter": {
    "hash": "632234ccdda8c3869ebc5d38cf454c2655693afd72da514444530376665f1a3e"
   }
  }
 },
 "nbformat": 4,
 "nbformat_minor": 4
}
