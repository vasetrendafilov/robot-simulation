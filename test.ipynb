{
 "cells": [
  {
   "cell_type": "code",
   "execution_count": 1,
   "metadata": {},
   "outputs": [],
   "source": [
    "from packages.serial_link_robot import *\n",
    "import sympy as sp"
   ]
  },
  {
   "cell_type": "code",
   "execution_count": 2,
   "metadata": {},
   "outputs": [
    {
     "ename": "error",
     "evalue": "Not connected to physics server.",
     "output_type": "error",
     "traceback": [
      "\u001b[1;31m---------------------------------------------------------------------------\u001b[0m",
      "\u001b[1;31merror\u001b[0m                                     Traceback (most recent call last)",
      "Cell \u001b[1;32mIn [2], line 8\u001b[0m\n\u001b[0;32m      6\u001b[0m robot\u001b[39m.\u001b[39madd_revolute_joint(theta3, \u001b[39m0\u001b[39m, \u001b[39m2\u001b[39m, \u001b[39m0\u001b[39m)\n\u001b[0;32m      7\u001b[0m robot\u001b[39m.\u001b[39madd_subs([(d1, \u001b[39m2\u001b[39m), (k1, \u001b[39m2\u001b[39m)])\n\u001b[1;32m----> 8\u001b[0m robot\u001b[39m.\u001b[39;49minteract()\n",
      "File \u001b[1;32mc:\\Users\\vase_\\Downloads\\robot-simulation\\packages\\serial_link_robot.py:64\u001b[0m, in \u001b[0;36mSerialLinkRobot.interact\u001b[1;34m(self)\u001b[0m\n\u001b[0;32m     61\u001b[0m p\u001b[39m.\u001b[39msetGravity(\u001b[39m0\u001b[39m,\u001b[39m-\u001b[39m\u001b[39m9.8\u001b[39m,\u001b[39m0\u001b[39m)\n\u001b[0;32m     63\u001b[0m \u001b[39mwhile\u001b[39;00m (\u001b[39m1\u001b[39m):\n\u001b[1;32m---> 64\u001b[0m     p\u001b[39m.\u001b[39;49mstepSimulation()\n\u001b[0;32m     65\u001b[0m     targets \u001b[39m=\u001b[39m [(np\u001b[39m.\u001b[39mdeg2rad(p\u001b[39m.\u001b[39mreadUserDebugParameter(parameter)) \u001b[39mif\u001b[39;00m revolute \u001b[39melse\u001b[39;00m p\u001b[39m.\u001b[39mreadUserDebugParameter(parameter)) \u001b[39mfor\u001b[39;00m revolute,parameter \u001b[39min\u001b[39;00m parameters]\n\u001b[0;32m     66\u001b[0m     p\u001b[39m.\u001b[39msetJointMotorControlArray(\u001b[39m0\u001b[39m,joints,p\u001b[39m.\u001b[39mPOSITION_CONTROL,targets)\n",
      "\u001b[1;31merror\u001b[0m: Not connected to physics server."
     ]
    }
   ],
   "source": [
    "theta1, theta2,theta3, D3, d1, k1, k2, k3, d3 = sp.symbols('theta1, theta2,theta3, D3, d1, k1, k2, k3, d3')\n",
    "robot = SerialLinkRobot()\n",
    "robot.add_revolute_joint(theta1, d1, 0, sp.pi/2)\n",
    "robot.add_revolute_joint(theta2, 0, k1, sp.pi/2)\n",
    "robot.add_prismatic_joint(0, D3, 2, 0)\n",
    "robot.add_revolute_joint(theta3, 0, 2, 0)\n",
    "robot.add_subs([(d1, 2), (k1, 2)])\n",
    "robot.interact()"
   ]
  }
 ],
 "metadata": {
  "kernelspec": {
   "display_name": "Python 3.10.6 ('pybullet')",
   "language": "python",
   "name": "python3"
  },
  "language_info": {
   "codemirror_mode": {
    "name": "ipython",
    "version": 3
   },
   "file_extension": ".py",
   "mimetype": "text/x-python",
   "name": "python",
   "nbconvert_exporter": "python",
   "pygments_lexer": "ipython3",
   "version": "3.10.6"
  },
  "orig_nbformat": 4,
  "vscode": {
   "interpreter": {
    "hash": "4ceb928d32af48bf1c49e5d311d84be4f170bbf3f4f9e3b8b975373d49b4e92a"
   }
  }
 },
 "nbformat": 4,
 "nbformat_minor": 2
}
