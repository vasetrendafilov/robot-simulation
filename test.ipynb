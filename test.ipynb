{
 "cells": [
  {
   "cell_type": "code",
   "execution_count": 1,
   "metadata": {},
   "outputs": [],
   "source": [
    "from packages.serial_link_robot import *\n",
    "import sympy as sp\n",
    "from numpy import pi\n",
    "import pybullet as p"
   ]
  },
  {
   "cell_type": "code",
   "execution_count": 2,
   "metadata": {},
   "outputs": [],
   "source": [
    "theta1, theta2, theta3, d1, d2, x, y = sp.symbols('theta1, theta2, theta3, d1, d2, x, y')\n",
    "robot = SerialLinkRobot((-4,0,0))\n",
    "robot.add_revolute_joint(theta1, 2, 3, 0)\n",
    "robot.add_revolute_joint(theta2, 0, 3, -sp.pi,-120,120)\n",
    "robot.add_prismatic_joint(0,d1,0,0)\n",
    "robot.add_revolute_joint(theta3,0,0,0)\n",
    "robot.add_attachment()\n",
    "robot.interact('inverse',True,True,(0,3,1),(0,3,1),(-2,3,0))\n",
    "#robot.load_robot()\n",
    "#robot.replay_logs('forward')"
   ]
  },
  {
   "cell_type": "code",
   "execution_count": 3,
   "metadata": {},
   "outputs": [],
   "source": [
    "theta1, d2, d3, theta4, theta5, theta6, d1, d6 = sp.symbols('theta1, d2, d3, theta4, theta5, theta6, d1, d6')\n",
    "robot = SerialLinkRobot((-3,0,0))\n",
    "robot.add_revolute_joint(theta1, d1, 0, 0)\n",
    "robot.add_prismatic_joint(0, d2, 0, -sp.pi/2)\n",
    "robot.add_prismatic_joint(0, d3, 0, 0)\n",
    "robot.add_revolute_joint(theta4, 0.1, 0, sp.pi/2)\n",
    "robot.add_revolute_joint(theta5, 0, 0.1, -sp.pi/2)\n",
    "robot.add_revolute_joint(theta6, 0, 2, 0,)\n",
    "robot.add_subs([(d1, 1)])\n",
    "#robot.add_attachment()\n",
    "robot.interact('inverse',True,False)\n",
    "#robot.load_robot()\n",
    "#robot.replay_logs('inverse')"
   ]
  },
  {
   "cell_type": "code",
   "execution_count": 5,
   "metadata": {},
   "outputs": [],
   "source": [
    "robot.move((2,2,2,0,0,0),(4,2,2,0,0,0))"
   ]
  },
  {
   "cell_type": "code",
   "execution_count": 11,
   "metadata": {},
   "outputs": [],
   "source": [
    "robot.move((3,1,2,0,0,0),(4.5,1,2,0,0,0),(0,-pi/4,0),'circular',30,param=(1.5,1.5,1,0))"
   ]
  },
  {
   "cell_type": "code",
   "execution_count": 5,
   "metadata": {},
   "outputs": [
    {
     "data": {
      "text/plain": [
       "True"
      ]
     },
     "execution_count": 5,
     "metadata": {},
     "output_type": "execute_result"
    }
   ],
   "source": [
    "robot.write_letter('F',[1,1,2])"
   ]
  },
  {
   "cell_type": "code",
   "execution_count": 4,
   "metadata": {},
   "outputs": [],
   "source": [
    "robot = SerialLinkRobot()\n",
    "robot.import_robot()\n",
    "robot.interact()"
   ]
  },
  {
   "cell_type": "code",
   "execution_count": null,
   "metadata": {},
   "outputs": [],
   "source": []
  }
 ],
 "metadata": {
  "kernelspec": {
   "display_name": "Python 3.10.6 ('pybullet')",
   "language": "python",
   "name": "python3"
  },
  "language_info": {
   "codemirror_mode": {
    "name": "ipython",
    "version": 3
   },
   "file_extension": ".py",
   "mimetype": "text/x-python",
   "name": "python",
   "nbconvert_exporter": "python",
   "pygments_lexer": "ipython3",
   "version": "3.10.6"
  },
  "orig_nbformat": 4,
  "vscode": {
   "interpreter": {
    "hash": "4ceb928d32af48bf1c49e5d311d84be4f170bbf3f4f9e3b8b975373d49b4e92a"
   }
  }
 },
 "nbformat": 4,
 "nbformat_minor": 2
}
