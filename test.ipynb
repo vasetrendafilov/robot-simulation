{
 "cells": [
  {
   "cell_type": "code",
   "execution_count": 1,
   "metadata": {},
   "outputs": [],
   "source": [
    "import pybullet as p\n",
    "import pybullet_data as pd\n",
    "import math\n",
    "import time\n",
    "import numpy as np\n",
    "import panda as panda_sim\n"
   ]
  },
  {
   "cell_type": "code",
   "execution_count": 2,
   "metadata": {},
   "outputs": [],
   "source": [
    "\n",
    "p.connect(p.GUI)\n",
    "p.setAdditionalSearchPath(r'C:\\Users\\vase_\\Downloads\\robot-simulation')\n",
    "p.resetDebugVisualizerCamera( cameraDistance=10, cameraYaw=15, cameraPitch=-20, cameraTargetPosition=[0,0,0])"
   ]
  },
  {
   "cell_type": "code",
   "execution_count": 3,
   "metadata": {},
   "outputs": [
    {
     "data": {
      "text/plain": [
       "0"
      ]
     },
     "execution_count": 3,
     "metadata": {},
     "output_type": "execute_result"
    }
   ],
   "source": [
    "orn=[0, 0.0, 0.0, 1]\n",
    "flags = p.URDF_ENABLE_CACHED_GRAPHICS_SHAPES\n",
    "p.loadURDF(\"outfile.urdf\", np.array([0,0,0]), orn, useFixedBase=True, flags=flags)"
   ]
  },
  {
   "cell_type": "code",
   "execution_count": 4,
   "metadata": {},
   "outputs": [],
   "source": [
    "parameters = []\n",
    "joints = []\n",
    "for i in range(p.getNumJoints(0)):\n",
    "    joint_info = p.getJointInfo(0,i)\n",
    "    if joint_info[2] == p.JOINT_PRISMATIC:\n",
    "        joints.append(i)\n",
    "        parameters.append((False,p.addUserDebugParameter(\"D\"+str(i),joint_info[8],joint_info[9],0.5)))\n",
    "    if joint_info[2] == p.JOINT_REVOLUTE:\n",
    "        joints.append(i)\n",
    "        parameters.append((True,p.addUserDebugParameter(\"Theta\"+str(i),np.rad2deg(joint_info[8]),np.rad2deg(joint_info[9]),0)))"
   ]
  },
  {
   "cell_type": "code",
   "execution_count": 18,
   "metadata": {},
   "outputs": [
    {
     "name": "stdout",
     "output_type": "stream",
     "text": [
      "'r'\n",
      "'r'\n",
      "'p'\n",
      "ok\n",
      "'f'\n",
      "'r'\n"
     ]
    }
   ],
   "source": [
    "file1 = open('outfile.urdf', 'r')\n",
    "Lines = file1.readlines()\n",
    "  \n",
    "count = 0\n",
    "# Strips the newline character\n",
    "for line in Lines[1:]:\n",
    "    if line.strip() == '-->':\n",
    "        break\n",
    "    dhlist = line.strip().split(',')\n",
    "    print(dhlist[0])\n",
    "    if(dhlist[0][1] == 'p'):\n",
    "        print('ok')\n",
    "\n",
    "    "
   ]
  },
  {
   "cell_type": "code",
   "execution_count": 10,
   "metadata": {},
   "outputs": [
    {
     "data": {
      "text/plain": [
       "0"
      ]
     },
     "execution_count": 10,
     "metadata": {},
     "output_type": "execute_result"
    }
   ],
   "source": [
    "p.JOINT_REVOLUTE"
   ]
  },
  {
   "cell_type": "code",
   "execution_count": 10,
   "metadata": {},
   "outputs": [
    {
     "data": {
      "text/plain": [
       "((2.0, 0.0, 3.0),\n",
       " (0.0, 0.0, 0.0, 1.0),\n",
       " (0.0, 0.0, 0.0),\n",
       " (0.0, 0.0, 0.0, 1.0),\n",
       " (2.0, 0.0, 3.0),\n",
       " (0.0, 0.0, 0.0, 1.0))"
      ]
     },
     "execution_count": 10,
     "metadata": {},
     "output_type": "execute_result"
    }
   ],
   "source": [
    "p.getLinkState(0,2,computeForwardKinematics=1) "
   ]
  },
  {
   "cell_type": "code",
   "execution_count": 6,
   "metadata": {},
   "outputs": [
    {
     "data": {
      "text/plain": [
       "(1.0, 0.0, 0.0, 0.0, 1.0, 0.0, 0.0, 0.0, 1.0)"
      ]
     },
     "execution_count": 6,
     "metadata": {},
     "output_type": "execute_result"
    }
   ],
   "source": [
    "p.getMatrixFromQuaternion((0.0, 0.0, 0.0, 1.0)) "
   ]
  },
  {
   "cell_type": "code",
   "execution_count": 13,
   "metadata": {},
   "outputs": [
    {
     "data": {
      "text/plain": [
       "4"
      ]
     },
     "execution_count": 13,
     "metadata": {},
     "output_type": "execute_result"
    }
   ],
   "source": [
    "p.addUserDebugLine((2, 0, 0),(2, 0.0, 1.0),parentObjectUniqueId=0,parentLinkIndex=2)"
   ]
  },
  {
   "cell_type": "code",
   "execution_count": 11,
   "metadata": {},
   "outputs": [
    {
     "data": {
      "text/plain": [
       "3"
      ]
     },
     "execution_count": 11,
     "metadata": {},
     "output_type": "execute_result"
    }
   ],
   "source": [
    "p.addUserDebugLine((2, 0, 3),(2, 0.0, 4.0))"
   ]
  },
  {
   "cell_type": "code",
   "execution_count": 5,
   "metadata": {},
   "outputs": [
    {
     "ename": "error",
     "evalue": "Not connected to physics server.",
     "output_type": "error",
     "traceback": [
      "\u001b[1;31m---------------------------------------------------------------------------\u001b[0m",
      "\u001b[1;31merror\u001b[0m                                     Traceback (most recent call last)",
      "Cell \u001b[1;32mIn [5], line 6\u001b[0m\n\u001b[0;32m      3\u001b[0m p\u001b[39m.\u001b[39msetGravity(\u001b[39m0\u001b[39m,\u001b[39m-\u001b[39m\u001b[39m9.8\u001b[39m,\u001b[39m0\u001b[39m)\n\u001b[0;32m      5\u001b[0m \u001b[39mwhile\u001b[39;00m (\u001b[39m1\u001b[39m):\n\u001b[1;32m----> 6\u001b[0m \tp\u001b[39m.\u001b[39;49mstepSimulation()\n\u001b[0;32m      7\u001b[0m \ttargets \u001b[39m=\u001b[39m [(np\u001b[39m.\u001b[39mdeg2rad(p\u001b[39m.\u001b[39mreadUserDebugParameter(parameter)) \u001b[39mif\u001b[39;00m revolute \u001b[39melse\u001b[39;00m p\u001b[39m.\u001b[39mreadUserDebugParameter(parameter)) \u001b[39mfor\u001b[39;00m revolute,parameter \u001b[39min\u001b[39;00m parameters]\n\u001b[0;32m      8\u001b[0m \tp\u001b[39m.\u001b[39msetJointMotorControlArray(\u001b[39m0\u001b[39m,joints,p\u001b[39m.\u001b[39mPOSITION_CONTROL,targets)\n",
      "\u001b[1;31merror\u001b[0m: Not connected to physics server."
     ]
    }
   ],
   "source": [
    "timeStep=1./60.\n",
    "p.setTimeStep(timeStep)\n",
    "p.setGravity(0,-9.8,0)\n",
    " \n",
    "while (1):\n",
    "\tp.stepSimulation()\n",
    "\ttargets = [(np.deg2rad(p.readUserDebugParameter(parameter)) if revolute else p.readUserDebugParameter(parameter)) for revolute,parameter in parameters]\n",
    "\tp.setJointMotorControlArray(0,joints,p.POSITION_CONTROL,targets)\n",
    "\ttime.sleep(timeStep)"
   ]
  },
  {
   "cell_type": "code",
   "execution_count": 11,
   "metadata": {},
   "outputs": [],
   "source": [
    "import sympy as sp"
   ]
  },
  {
   "cell_type": "code",
   "execution_count": 14,
   "metadata": {},
   "outputs": [],
   "source": [
    "def frame_lines(pose, line_length=1):\n",
    "    t = pose[:3, -1]\n",
    "    line_n = sp.Matrix.hstack(t, t + line_length * pose[:3, 0])\n",
    "    line_o = sp.Matrix.hstack(t, t + line_length * pose[:3, 1])\n",
    "    line_a = sp.Matrix.hstack(t, t + line_length * pose[:3, 2])\n",
    "    return line_n, line_o, line_a\n",
    "\n",
    "\n",
    "def draw_frame(pose, labels='x-y-z', colors=('red', 'green', 'blue'), line_width=3, line_length=1):\n",
    "    def go_scatter(x, y, z, name, color, width):\n",
    "        return go.Scatter3d(\n",
    "            x=x, y=y, z=z,\n",
    "            marker=dict(size=2),\n",
    "            line=dict(color=color, width=width),\n",
    "            name=name)\n",
    "    \n",
    "    labels = labels.split('-')\n",
    "    line_n, line_o, line_a = frame_lines(pose, line_length)\n",
    "    scatter_n = go_scatter(*line_n.tolist(), labels[0], colors[0], line_width)\n",
    "    scatter_o = go_scatter(*line_o.tolist(), labels[1], colors[1], line_width)\n",
    "    scatter_a = go_scatter(*line_a.tolist(), labels[2], colors[2], line_width)\n",
    "    return scatter_n, scatter_o, scatter_a"
   ]
  },
  {
   "cell_type": "code",
   "execution_count": 19,
   "metadata": {},
   "outputs": [],
   "source": [
    "line_n, line_o, line_a = frame_lines(pose)"
   ]
  },
  {
   "cell_type": "code",
   "execution_count": 21,
   "metadata": {},
   "outputs": [
    {
     "data": {
      "text/latex": [
       "$\\displaystyle \\left[\\begin{matrix}4.0 & 4.0\\\\0 & -1.2246468 \\cdot 10^{-16}\\\\3.0 & 2.0\\end{matrix}\\right]$"
      ],
      "text/plain": [
       "Matrix([\n",
       "[4.0,            4.0],\n",
       "[  0, -1.2246468e-16],\n",
       "[3.0,            2.0]])"
      ]
     },
     "execution_count": 21,
     "metadata": {},
     "output_type": "execute_result"
    }
   ],
   "source": [
    "line_a"
   ]
  },
  {
   "cell_type": "code",
   "execution_count": 17,
   "metadata": {},
   "outputs": [],
   "source": [
    "pose =  sp.Matrix([[ 1.0000000e+00,  0.0000000e+00,  0.0000000e+00,  4.0000000e+00],\n",
    "       [ 0.0000000e+00, -1.0000000e+00, -1.2246468e-16,  0.0000000e+00],\n",
    "       [ 0.0000000e+00,  1.2246468e-16, -1.0000000e+00,  3.0000000e+00],\n",
    "       [ 0.0000000e+00,  0.0000000e+00,  0.0000000e+00,  1.0000000e+00]])"
   ]
  },
  {
   "cell_type": "code",
   "execution_count": 18,
   "metadata": {},
   "outputs": [
    {
     "data": {
      "text/latex": [
       "$\\displaystyle \\left[\\begin{matrix}1.0 & 0 & 0 & 4.0\\\\0 & -1.0 & -1.2246468 \\cdot 10^{-16} & 0\\\\0 & 1.2246468 \\cdot 10^{-16} & -1.0 & 3.0\\\\0 & 0 & 0 & 1.0\\end{matrix}\\right]$"
      ],
      "text/plain": [
       "Matrix([\n",
       "[1.0,             0,              0, 4.0],\n",
       "[  0,          -1.0, -1.2246468e-16,   0],\n",
       "[  0, 1.2246468e-16,           -1.0, 3.0],\n",
       "[  0,             0,              0, 1.0]])"
      ]
     },
     "execution_count": 18,
     "metadata": {},
     "output_type": "execute_result"
    }
   ],
   "source": [
    "pose"
   ]
  },
  {
   "cell_type": "code",
   "execution_count": 3,
   "metadata": {},
   "outputs": [],
   "source": [
    "p.setAdditionalSearchPath(pd.getDataPath())"
   ]
  },
  {
   "cell_type": "code",
   "execution_count": null,
   "metadata": {},
   "outputs": [],
   "source": [
    "timeStep=1./60.\n",
    "p.setTimeStep(timeStep)\n",
    "p.setGravity(0,-9.8,0)\n",
    " \n",
    "panda = panda_sim.PandaSim(p,[0,0,0])\n",
    "while (1):\n",
    "\tpanda.step()\n",
    "\tp.stepSimulation()\n",
    "\ttime.sleep(timeStep)"
   ]
  },
  {
   "cell_type": "code",
   "execution_count": null,
   "metadata": {},
   "outputs": [],
   "source": []
  }
 ],
 "metadata": {
  "kernelspec": {
   "display_name": "Python 3.10.4 ('pybullet')",
   "language": "python",
   "name": "python3"
  },
  "language_info": {
   "codemirror_mode": {
    "name": "ipython",
    "version": 3
   },
   "file_extension": ".py",
   "mimetype": "text/x-python",
   "name": "python",
   "nbconvert_exporter": "python",
   "pygments_lexer": "ipython3",
   "version": "3.10.4"
  },
  "orig_nbformat": 4,
  "vscode": {
   "interpreter": {
    "hash": "4ceb928d32af48bf1c49e5d311d84be4f170bbf3f4f9e3b8b975373d49b4e92a"
   }
  }
 },
 "nbformat": 4,
 "nbformat_minor": 2
}
