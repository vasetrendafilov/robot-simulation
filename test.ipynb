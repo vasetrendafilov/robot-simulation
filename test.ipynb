{
 "cells": [
  {
   "cell_type": "code",
   "execution_count": 1,
   "metadata": {},
   "outputs": [],
   "source": [
    "from packages.serial_link_robot import *\n",
    "import sympy as sp\n",
    "from numpy import pi\n",
    "import pybullet as p"
   ]
  },
  {
   "cell_type": "code",
   "execution_count": 2,
   "metadata": {},
   "outputs": [
    {
     "ename": "error",
     "evalue": "Not connected to physics server.",
     "output_type": "error",
     "traceback": [
      "\u001b[1;31m---------------------------------------------------------------------------\u001b[0m",
      "\u001b[1;31merror\u001b[0m                                     Traceback (most recent call last)",
      "Cell \u001b[1;32mIn [2], line 8\u001b[0m\n\u001b[0;32m      6\u001b[0m robot\u001b[39m.\u001b[39madd_revolute_joint(theta3,\u001b[39m0\u001b[39m,\u001b[39m0\u001b[39m,\u001b[39m0\u001b[39m)\n\u001b[0;32m      7\u001b[0m robot\u001b[39m.\u001b[39madd_attachment()\n\u001b[1;32m----> 8\u001b[0m robot\u001b[39m.\u001b[39;49minteract(\u001b[39m'\u001b[39;49m\u001b[39minverse\u001b[39;49m\u001b[39m'\u001b[39;49m,\u001b[39mTrue\u001b[39;49;00m,\u001b[39mTrue\u001b[39;49;00m)\n",
      "File \u001b[1;32mc:\\Users\\vase_\\Downloads\\robot-simulation\\packages\\serial_link_robot.py:244\u001b[0m, in \u001b[0;36mSerialLinkRobot.interact\u001b[1;34m(self, kinematics, use_orientation_ik, dynamically)\u001b[0m\n\u001b[0;32m    242\u001b[0m \u001b[39melse\u001b[39;00m:\n\u001b[0;32m    243\u001b[0m     \u001b[39mself\u001b[39m\u001b[39m.\u001b[39madd_pose_sliders() \n\u001b[1;32m--> 244\u001b[0m \u001b[39mself\u001b[39;49m\u001b[39m.\u001b[39;49mstep(dynamically)\n",
      "File \u001b[1;32mc:\\Users\\vase_\\Downloads\\robot-simulation\\packages\\serial_link_robot.py:350\u001b[0m, in \u001b[0;36mSerialLinkRobot.step\u001b[1;34m(self, dynamically)\u001b[0m\n\u001b[0;32m    348\u001b[0m \u001b[39m#self.display_pos_and_orn(link_state[4],link_state[5],self.joint_ids[-1]+2)\u001b[39;00m\n\u001b[0;32m    349\u001b[0m \u001b[39mself\u001b[39m\u001b[39m.\u001b[39mdraw_trajectory(position,link_state[\u001b[39m4\u001b[39m],\u001b[39m5\u001b[39m)\n\u001b[1;32m--> 350\u001b[0m \u001b[39mself\u001b[39;49m\u001b[39m.\u001b[39;49mstate_logging(\u001b[39mself\u001b[39;49m\u001b[39m.\u001b[39;49mkinematics)\n\u001b[0;32m    351\u001b[0m time\u001b[39m.\u001b[39msleep(\u001b[39mself\u001b[39m\u001b[39m.\u001b[39mtime_step)\n",
      "File \u001b[1;32mc:\\Users\\vase_\\Downloads\\robot-simulation\\packages\\serial_link_robot.py:376\u001b[0m, in \u001b[0;36mSerialLinkRobot.state_logging\u001b[1;34m(self, log_name, object_ids, start_stop)\u001b[0m\n\u001b[0;32m    374\u001b[0m     \u001b[39mself\u001b[39m\u001b[39m.\u001b[39mrecord_param \u001b[39m=\u001b[39m p\u001b[39m.\u001b[39maddUserDebugParameter(\u001b[39m\"\u001b[39m\u001b[39mStart/Stop Logging\u001b[39m\u001b[39m\"\u001b[39m,\u001b[39m1\u001b[39m,\u001b[39m0\u001b[39m,\u001b[39m1\u001b[39m)\n\u001b[0;32m    375\u001b[0m \u001b[39melse\u001b[39;00m:\n\u001b[1;32m--> 376\u001b[0m     \u001b[39mif\u001b[39;00m p\u001b[39m.\u001b[39;49mreadUserDebugParameter(\u001b[39mself\u001b[39;49m\u001b[39m.\u001b[39;49mrecord_param) \u001b[39m%\u001b[39m\u001b[39m2\u001b[39m \u001b[39m==\u001b[39m \u001b[39m0\u001b[39m: \u001b[39m# start\u001b[39;00m\n\u001b[0;32m    377\u001b[0m         \u001b[39mif\u001b[39;00m \u001b[39mself\u001b[39m\u001b[39m.\u001b[39mlog \u001b[39mis\u001b[39;00m \u001b[39mNone\u001b[39;00m: \u001b[39m# once\u001b[39;00m\n\u001b[0;32m    378\u001b[0m             \u001b[39mif\u001b[39;00m \u001b[39mnot\u001b[39;00m os\u001b[39m.\u001b[39mpath\u001b[39m.\u001b[39mexists(os\u001b[39m.\u001b[39mgetcwd()\u001b[39m+\u001b[39m\u001b[39mf\u001b[39m\u001b[39m'\u001b[39m\u001b[39m\\\\\u001b[39;00m\u001b[39m{\u001b[39;00m\u001b[39mself\u001b[39m\u001b[39m.\u001b[39mname\u001b[39m}\u001b[39;00m\u001b[39m_logs\u001b[39m\u001b[39m\\\\\u001b[39;00m\u001b[39m'\u001b[39m):\n",
      "\u001b[1;31merror\u001b[0m: Not connected to physics server."
     ]
    }
   ],
   "source": [
    "theta1, theta2, theta3, d1, d2, x, y = sp.symbols('theta1, theta2, theta3, d1, d2, x, y')\n",
    "robot = SerialLinkRobot((-4,0,0))\n",
    "robot.add_revolute_joint(theta1, 2, 3, 0)\n",
    "robot.add_revolute_joint(theta2, 0, 3, -sp.pi,-120,120)\n",
    "robot.add_prismatic_joint(0,d1,0,0)\n",
    "robot.add_revolute_joint(theta3,0,0,0)\n",
    "robot.add_attachment()\n",
    "robot.interact('inverse',True,True)\n",
    "#robot.load_robot()\n",
    "#robot.replay_logs('forward')"
   ]
  },
  {
   "cell_type": "code",
   "execution_count": null,
   "metadata": {},
   "outputs": [
    {
     "ename": "error",
     "evalue": "Not connected to physics server.",
     "output_type": "error",
     "traceback": [
      "\u001b[1;31m---------------------------------------------------------------------------\u001b[0m",
      "\u001b[1;31merror\u001b[0m                                     Traceback (most recent call last)",
      "Cell \u001b[1;32mIn [3], line 10\u001b[0m\n\u001b[0;32m      8\u001b[0m robot\u001b[39m.\u001b[39madd_revolute_joint(theta6, \u001b[39m0\u001b[39m, \u001b[39m2\u001b[39m, \u001b[39m0\u001b[39m,)\n\u001b[0;32m      9\u001b[0m robot\u001b[39m.\u001b[39madd_subs([(d1, \u001b[39m1\u001b[39m)])\n\u001b[1;32m---> 10\u001b[0m robot\u001b[39m.\u001b[39;49minteract()\n",
      "File \u001b[1;32mc:\\Users\\vase_\\Downloads\\robot-simulation\\packages\\serial_link_robot.py:228\u001b[0m, in \u001b[0;36mSerialLinkRobot.interact\u001b[1;34m(self, kinematics, use_orientation_ik, dynamically)\u001b[0m\n\u001b[0;32m    226\u001b[0m \u001b[39melse\u001b[39;00m:\n\u001b[0;32m    227\u001b[0m     \u001b[39mself\u001b[39m\u001b[39m.\u001b[39madd_pose_sliders() \n\u001b[1;32m--> 228\u001b[0m \u001b[39mself\u001b[39;49m\u001b[39m.\u001b[39;49mstep(dynamically)\n",
      "File \u001b[1;32mc:\\Users\\vase_\\Downloads\\robot-simulation\\packages\\serial_link_robot.py:335\u001b[0m, in \u001b[0;36mSerialLinkRobot.step\u001b[1;34m(self, dynamically)\u001b[0m\n\u001b[0;32m    333\u001b[0m \u001b[39m#self.display_pos_and_orn(link_state[4],link_state[5],self.joint_ids[-1]+2)\u001b[39;00m\n\u001b[0;32m    334\u001b[0m \u001b[39mself\u001b[39m\u001b[39m.\u001b[39mdraw_trajectory(position,link_state[\u001b[39m4\u001b[39m],\u001b[39m5\u001b[39m)\n\u001b[1;32m--> 335\u001b[0m \u001b[39mself\u001b[39;49m\u001b[39m.\u001b[39;49mstate_logging(\u001b[39mself\u001b[39;49m\u001b[39m.\u001b[39;49mkinematics)\n\u001b[0;32m    336\u001b[0m time\u001b[39m.\u001b[39msleep(\u001b[39mself\u001b[39m\u001b[39m.\u001b[39mtime_step)\n",
      "File \u001b[1;32mc:\\Users\\vase_\\Downloads\\robot-simulation\\packages\\serial_link_robot.py:346\u001b[0m, in \u001b[0;36mSerialLinkRobot.state_logging\u001b[1;34m(self, log_name, object_ids, start_stop)\u001b[0m\n\u001b[0;32m    344\u001b[0m     \u001b[39mself\u001b[39m\u001b[39m.\u001b[39mrecord_param \u001b[39m=\u001b[39m p\u001b[39m.\u001b[39maddUserDebugParameter(\u001b[39m\"\u001b[39m\u001b[39mStart/Stop Logging\u001b[39m\u001b[39m\"\u001b[39m,\u001b[39m1\u001b[39m,\u001b[39m0\u001b[39m,\u001b[39m1\u001b[39m)\n\u001b[0;32m    345\u001b[0m \u001b[39melse\u001b[39;00m:\n\u001b[1;32m--> 346\u001b[0m     \u001b[39mif\u001b[39;00m p\u001b[39m.\u001b[39;49mreadUserDebugParameter(\u001b[39mself\u001b[39;49m\u001b[39m.\u001b[39;49mrecord_param) \u001b[39m%\u001b[39m\u001b[39m2\u001b[39m \u001b[39m==\u001b[39m \u001b[39m0\u001b[39m: \u001b[39m# start\u001b[39;00m\n\u001b[0;32m    347\u001b[0m         \u001b[39mif\u001b[39;00m \u001b[39mself\u001b[39m\u001b[39m.\u001b[39mlog \u001b[39mis\u001b[39;00m \u001b[39mNone\u001b[39;00m: \u001b[39m# once\u001b[39;00m\n\u001b[0;32m    348\u001b[0m             \u001b[39mif\u001b[39;00m \u001b[39mnot\u001b[39;00m os\u001b[39m.\u001b[39mpath\u001b[39m.\u001b[39mexists(os\u001b[39m.\u001b[39mgetcwd()\u001b[39m+\u001b[39m\u001b[39mf\u001b[39m\u001b[39m'\u001b[39m\u001b[39m\\\\\u001b[39;00m\u001b[39m{\u001b[39;00m\u001b[39mself\u001b[39m\u001b[39m.\u001b[39mname\u001b[39m}\u001b[39;00m\u001b[39m_logs\u001b[39m\u001b[39m\\\\\u001b[39;00m\u001b[39m'\u001b[39m):\n",
      "\u001b[1;31merror\u001b[0m: Not connected to physics server."
     ]
    }
   ],
   "source": [
    "theta1, d2, d3, theta4, theta5, theta6, d1, d6 = sp.symbols('theta1, d2, d3, theta4, theta5, theta6, d1, d6')\n",
    "robot = SerialLinkRobot()\n",
    "robot.add_revolute_joint(theta1, d1, 0, 0)\n",
    "robot.add_prismatic_joint(0, d2, 0, -sp.pi/2)\n",
    "robot.add_prismatic_joint(0, d3, 0, 0)\n",
    "robot.add_revolute_joint(theta4, 0.1, 0, sp.pi/2)\n",
    "robot.add_revolute_joint(theta5, 0, 0.1, -sp.pi/2)\n",
    "robot.add_revolute_joint(theta6, 0, 2, 0,)\n",
    "robot.add_subs([(d1, 1)])\n",
    "robot.interact()\n",
    "#robot.load_robot()\n",
    "#robot.replay_logs('inverse')"
   ]
  },
  {
   "cell_type": "code",
   "execution_count": 5,
   "metadata": {},
   "outputs": [],
   "source": [
    "robot.move((2,2,2,0,0,0),(4,2,2,0,0,0))"
   ]
  },
  {
   "cell_type": "code",
   "execution_count": 11,
   "metadata": {},
   "outputs": [],
   "source": [
    "robot.move((3,1,2,0,0,0),(4.5,1,2,0,0,0),(0,-pi/4,0),'circular',30,param=(1.5,1.5,1,0))"
   ]
  },
  {
   "cell_type": "code",
   "execution_count": 5,
   "metadata": {},
   "outputs": [
    {
     "data": {
      "text/plain": [
       "True"
      ]
     },
     "execution_count": 5,
     "metadata": {},
     "output_type": "execute_result"
    }
   ],
   "source": [
    "robot.write_letter('F',[1,1,2])"
   ]
  },
  {
   "cell_type": "code",
   "execution_count": 2,
   "metadata": {},
   "outputs": [
    {
     "ename": "IndexError",
     "evalue": "list index out of range",
     "output_type": "error",
     "traceback": [
      "\u001b[1;31m---------------------------------------------------------------------------\u001b[0m",
      "\u001b[1;31mIndexError\u001b[0m                                Traceback (most recent call last)",
      "Cell \u001b[1;32mIn [2], line 3\u001b[0m\n\u001b[0;32m      1\u001b[0m robot \u001b[39m=\u001b[39m SerialLinkRobot()\n\u001b[0;32m      2\u001b[0m robot\u001b[39m.\u001b[39mimport_robot()\n\u001b[1;32m----> 3\u001b[0m robot\u001b[39m.\u001b[39;49minteract()\n",
      "File \u001b[1;32mc:\\Users\\vase_\\Downloads\\robot-simulation\\packages\\serial_link_robot.py:223\u001b[0m, in \u001b[0;36mSerialLinkRobot.interact\u001b[1;34m(self, kinematics, use_orientation_ik, dynamically)\u001b[0m\n\u001b[0;32m    221\u001b[0m \u001b[39mself\u001b[39m\u001b[39m.\u001b[39mkinematics \u001b[39m=\u001b[39m kinematics\n\u001b[0;32m    222\u001b[0m \u001b[39mself\u001b[39m\u001b[39m.\u001b[39muse_orientation_ik \u001b[39m=\u001b[39m use_orientation_ik\n\u001b[1;32m--> 223\u001b[0m \u001b[39mself\u001b[39;49m\u001b[39m.\u001b[39;49mload_robot()\n\u001b[0;32m    224\u001b[0m \u001b[39mif\u001b[39;00m \u001b[39mself\u001b[39m\u001b[39m.\u001b[39mkinematics \u001b[39m==\u001b[39m \u001b[39m'\u001b[39m\u001b[39mforward\u001b[39m\u001b[39m'\u001b[39m:\n\u001b[0;32m    225\u001b[0m     \u001b[39mself\u001b[39m\u001b[39m.\u001b[39madd_joint_sliders()\n",
      "File \u001b[1;32mc:\\Users\\vase_\\Downloads\\robot-simulation\\packages\\serial_link_robot.py:238\u001b[0m, in \u001b[0;36mSerialLinkRobot.load_robot\u001b[1;34m(self)\u001b[0m\n\u001b[0;32m    236\u001b[0m \u001b[39mself\u001b[39m\u001b[39m.\u001b[39mrobot \u001b[39m=\u001b[39m p\u001b[39m.\u001b[39mloadURDF(\u001b[39mself\u001b[39m\u001b[39m.\u001b[39mname\u001b[39m+\u001b[39m\u001b[39m'\u001b[39m\u001b[39m.urdf\u001b[39m\u001b[39m'\u001b[39m, \u001b[39mself\u001b[39m\u001b[39m.\u001b[39moffset, \u001b[39mself\u001b[39m\u001b[39m.\u001b[39morientation, useFixedBase\u001b[39m=\u001b[39m\u001b[39mTrue\u001b[39;00m)\n\u001b[0;32m    237\u001b[0m \u001b[39mself\u001b[39m\u001b[39m.\u001b[39mjoint_ids \u001b[39m=\u001b[39m [i \u001b[39mfor\u001b[39;00m i \u001b[39min\u001b[39;00m \u001b[39mrange\u001b[39m(p\u001b[39m.\u001b[39mgetNumJoints(\u001b[39mself\u001b[39m\u001b[39m.\u001b[39mrobot)) \u001b[39mif\u001b[39;00m (p\u001b[39m.\u001b[39mgetJointInfo(\u001b[39mself\u001b[39m\u001b[39m.\u001b[39mrobot,i)[\u001b[39m2\u001b[39m] \u001b[39min\u001b[39;00m [p\u001b[39m.\u001b[39mJOINT_PRISMATIC, p\u001b[39m.\u001b[39mJOINT_REVOLUTE])]\n\u001b[1;32m--> 238\u001b[0m \u001b[39mself\u001b[39;49m\u001b[39m.\u001b[39;49madd_joint_frame_lines()\n\u001b[0;32m    239\u001b[0m \u001b[39mself\u001b[39m\u001b[39m.\u001b[39mreset_joints()\n\u001b[0;32m    240\u001b[0m grip \u001b[39m=\u001b[39m p\u001b[39m.\u001b[39mloadURDF(\u001b[39m'\u001b[39m\u001b[39mgripper.urdf\u001b[39m\u001b[39m'\u001b[39m,(\u001b[39m0\u001b[39m,\u001b[39m0\u001b[39m,\u001b[39m0\u001b[39m),(\u001b[39m0\u001b[39m,\u001b[39m0\u001b[39m,\u001b[39m0\u001b[39m,\u001b[39m1\u001b[39m))\n",
      "File \u001b[1;32mc:\\Users\\vase_\\Downloads\\robot-simulation\\packages\\serial_link_robot.py:283\u001b[0m, in \u001b[0;36mSerialLinkRobot.add_joint_frame_lines\u001b[1;34m(self)\u001b[0m\n\u001b[0;32m    281\u001b[0m \u001b[39mdef\u001b[39;00m \u001b[39madd_joint_frame_lines\u001b[39m(\u001b[39mself\u001b[39m):\n\u001b[0;32m    282\u001b[0m     \u001b[39mfor\u001b[39;00m joint_id \u001b[39min\u001b[39;00m \u001b[39mself\u001b[39m\u001b[39m.\u001b[39mjoint_ids:\n\u001b[1;32m--> 283\u001b[0m         \u001b[39mself\u001b[39m\u001b[39m.\u001b[39msubs_joints[joint_id\u001b[39m/\u001b[39m\u001b[39m/\u001b[39m\u001b[39m2\u001b[39m] \u001b[39m=\u001b[39m \u001b[39mself\u001b[39;49m\u001b[39m.\u001b[39;49msubs_joints[joint_id\u001b[39m/\u001b[39;49m\u001b[39m/\u001b[39;49m\u001b[39m2\u001b[39;49m][\u001b[39m0\u001b[39m], p\u001b[39m.\u001b[39mgetJointState(\u001b[39mself\u001b[39m\u001b[39m.\u001b[39mrobot,joint_id)[\u001b[39m0\u001b[39m]\n\u001b[0;32m    285\u001b[0m     \u001b[39mfor\u001b[39;00m joint \u001b[39min\u001b[39;00m \u001b[39mrange\u001b[39m(\u001b[39m0\u001b[39m,p\u001b[39m.\u001b[39mgetNumJoints(\u001b[39mself\u001b[39m\u001b[39m.\u001b[39mrobot)\u001b[39m-\u001b[39m\u001b[39m2\u001b[39m,\u001b[39m2\u001b[39m):\n\u001b[0;32m    286\u001b[0m         transform \u001b[39m=\u001b[39m \u001b[39mself\u001b[39m\u001b[39m.\u001b[39mget_dh_joint_to_joint(joint\u001b[39m/\u001b[39m\u001b[39m/\u001b[39m\u001b[39m2\u001b[39m,joint\u001b[39m/\u001b[39m\u001b[39m/\u001b[39m\u001b[39m2\u001b[39m\u001b[39m+\u001b[39m\u001b[39m1\u001b[39m)\u001b[39m.\u001b[39msubs(\u001b[39mself\u001b[39m\u001b[39m.\u001b[39msubs_joints\u001b[39m+\u001b[39m\u001b[39mself\u001b[39m\u001b[39m.\u001b[39msubs_additional)\u001b[39m.\u001b[39mevalf()\n",
      "\u001b[1;31mIndexError\u001b[0m: list index out of range"
     ]
    }
   ],
   "source": [
    "robot = SerialLinkRobot()\n",
    "robot.import_robot()\n",
    "robot.interact()"
   ]
  },
  {
   "cell_type": "code",
   "execution_count": null,
   "metadata": {},
   "outputs": [],
   "source": []
  }
 ],
 "metadata": {
  "kernelspec": {
   "display_name": "Python 3.10.6 ('pybullet')",
   "language": "python",
   "name": "python3"
  },
  "language_info": {
   "codemirror_mode": {
    "name": "ipython",
    "version": 3
   },
   "file_extension": ".py",
   "mimetype": "text/x-python",
   "name": "python",
   "nbconvert_exporter": "python",
   "pygments_lexer": "ipython3",
   "version": "3.10.6"
  },
  "orig_nbformat": 4,
  "vscode": {
   "interpreter": {
    "hash": "4ceb928d32af48bf1c49e5d311d84be4f170bbf3f4f9e3b8b975373d49b4e92a"
   }
  }
 },
 "nbformat": 4,
 "nbformat_minor": 2
}
