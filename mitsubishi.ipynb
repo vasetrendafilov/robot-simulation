{
 "cells": [
  {
   "cell_type": "code",
   "execution_count": 1,
   "metadata": {},
   "outputs": [],
   "source": [
    "from packages.robot_arm import RobotArm\n",
    "from packages.pybullet_sim import PybulletSimulation"
   ]
  },
  {
   "cell_type": "code",
   "execution_count": 3,
   "metadata": {},
   "outputs": [],
   "source": [
    "sim = PybulletSimulation()\n",
    "sim.connect()\n",
    "sim.load_table()\n",
    "sim.load_tray()\n",
    "sim.load_common_objects()\n",
    "robot = RobotArm((-2.2,0,0))\n",
    "robot.camera_offset = (0,0,0.02)\n",
    "robot.import_foreign_robot('robot_arms/mitsubishi/RV2FQG.urdf',8)\n",
    "robot.interact('inverse')\n",
    "#robot.load_robot()"
   ]
  },
  {
   "cell_type": "code",
   "execution_count": 2,
   "metadata": {},
   "outputs": [],
   "source": [
    "robot = RobotArm(use_dynamics=False)\n",
    "robot.import_foreign_robot('robot_arms/mitsubishi/RV2FQ.urdf',8)\n",
    "robot.set_position_limits(1.8,3.5,-3,3,0.3,4)\n",
    "robot.load_robot()\n",
    "robot.reset_joints([0,0,2,0,0,0])"
   ]
  },
  {
   "cell_type": "code",
   "execution_count": 11,
   "metadata": {},
   "outputs": [],
   "source": [
    "robot.state_logging('FEIT','start')\n",
    "robot.write_text('FEIT',[2.3,-2,2],(180,0,0),1,(0,0,0),0.5)\n",
    "robot.state_logging(start_stop='stop')"
   ]
  },
  {
   "cell_type": "code",
   "execution_count": 9,
   "metadata": {},
   "outputs": [],
   "source": [
    "robot.move((3.8,0,0,180,0,0),(4,0,0,180,0,0),(0,-45,0),'circular',60,param=(1,1,1,0),log_move=True)"
   ]
  },
  {
   "cell_type": "code",
   "execution_count": 10,
   "metadata": {},
   "outputs": [],
   "source": [
    "robot.move((3,-2,3,180,0,0),(2,3,2,180,0,0))"
   ]
  },
  {
   "cell_type": "code",
   "execution_count": 13,
   "metadata": {},
   "outputs": [],
   "source": [
    "robot.replay_logs('FEIT')"
   ]
  },
  {
   "cell_type": "code",
   "execution_count": 3,
   "metadata": {},
   "outputs": [],
   "source": [
    "robot.convert_logs_to_prg('FEIT','drawfeit')"
   ]
  },
  {
   "cell_type": "code",
   "execution_count": null,
   "metadata": {},
   "outputs": [],
   "source": []
  }
 ],
 "metadata": {
  "kernelspec": {
   "display_name": "Python 3.10.6 ('pybullet')",
   "language": "python",
   "name": "python3"
  },
  "language_info": {
   "codemirror_mode": {
    "name": "ipython",
    "version": 3
   },
   "file_extension": ".py",
   "mimetype": "text/x-python",
   "name": "python",
   "nbconvert_exporter": "python",
   "pygments_lexer": "ipython3",
   "version": "3.10.6"
  },
  "orig_nbformat": 4,
  "vscode": {
   "interpreter": {
    "hash": "4ceb928d32af48bf1c49e5d311d84be4f170bbf3f4f9e3b8b975373d49b4e92a"
   }
  }
 },
 "nbformat": 4,
 "nbformat_minor": 2
}
