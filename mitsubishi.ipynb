{
 "cells": [
  {
   "cell_type": "code",
   "execution_count": 1,
   "metadata": {},
   "outputs": [],
   "source": [
    "import numpy as np\n",
    "from packages.robot_arm import RobotArm\n",
    "from packages.pybullet_sim import PybulletSimulation"
   ]
  },
  {
   "cell_type": "code",
   "execution_count": 2,
   "metadata": {},
   "outputs": [],
   "source": [
    "sim = PybulletSimulation()\n",
    "sim.connect()\n",
    "sim.load_table((0,0,-2.9))\n",
    "robot = RobotArm((-2,0,0),use_dynamics=False)\n",
    "robot.import_foreign_robot('robot_arms/mitsubishi/RV2FQ.urdf',8)\n",
    "robot.interact('inverse')"
   ]
  },
  {
   "cell_type": "code",
   "execution_count": 37,
   "metadata": {},
   "outputs": [],
   "source": [
    "robot = RobotArm(use_dynamics=False)\n",
    "robot.import_foreign_robot('robot_arms/mitsubishi/RV2FQ.urdf',8)\n",
    "robot.load_robot()\n",
    "robot.reset_joints([0,0,2,0,0,0])"
   ]
  },
  {
   "cell_type": "code",
   "execution_count": 8,
   "metadata": {},
   "outputs": [],
   "source": [
    "robot.write_text('FEIT',[2.3,-2,2],(180,0,0),1,(0,0,0),0.5)"
   ]
  },
  {
   "cell_type": "code",
   "execution_count": 29,
   "metadata": {},
   "outputs": [],
   "source": [
    "robot.move((3.5,0,0,180,0,0),(4,0,0,180,0,0),(0,-45,0),'circular',60,param=(1,1,1,0))"
   ]
  },
  {
   "cell_type": "code",
   "execution_count": 40,
   "metadata": {},
   "outputs": [],
   "source": [
    "robot.move((3,-2,3,180,0,0),(2,3,2,180,0,0))"
   ]
  }
 ],
 "metadata": {
  "kernelspec": {
   "display_name": "Python 3.10.6 ('pybullet')",
   "language": "python",
   "name": "python3"
  },
  "language_info": {
   "codemirror_mode": {
    "name": "ipython",
    "version": 3
   },
   "file_extension": ".py",
   "mimetype": "text/x-python",
   "name": "python",
   "nbconvert_exporter": "python",
   "pygments_lexer": "ipython3",
   "version": "3.10.6"
  },
  "orig_nbformat": 4,
  "vscode": {
   "interpreter": {
    "hash": "4ceb928d32af48bf1c49e5d311d84be4f170bbf3f4f9e3b8b975373d49b4e92a"
   }
  }
 },
 "nbformat": 4,
 "nbformat_minor": 2
}
