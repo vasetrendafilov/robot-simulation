{
 "cells": [
  {
   "cell_type": "code",
   "execution_count": 1,
   "metadata": {},
   "outputs": [],
   "source": [
    "import sympy as sp\n",
    "from packages.robot_arm import RobotArm\n",
    "from packages.pybullet_sim import PybulletSimulation"
   ]
  },
  {
   "cell_type": "code",
   "execution_count": 4,
   "metadata": {},
   "outputs": [],
   "source": [
    "theta1, theta2, theta3, d1, d2, x, y = sp.symbols('theta1, theta2, theta3, d1, d2, x, y')\n",
    "sim = PybulletSimulation(cam_param=(3,15,-20))\n",
    "sim.connect()\n",
    "sim.load_table()\n",
    "sim.load_tray()\n",
    "sim.load_random_objects()\n",
    "robot = RobotArm((-4,0,0.2))\n",
    "robot.add_revolute_joint(theta1, 3, 3, 0)\n",
    "robot.add_revolute_joint(theta2, 0, 3, -sp.pi,-120,120)\n",
    "robot.add_prismatic_joint(0,d1,0,0)\n",
    "robot.add_revolute_joint(theta3,0,0,0)\n",
    "robot.add_attachment('revolute_gripper',(0,-90,0),(0,0,0.3))\n",
    "robot.attachment_open_targets = (0.548,0.548)\n",
    "robot.attachment_close_targets = (0,0)\n",
    "robot.interact('inverse',True,True,False,(-2,3,1),(-2,3,1),(-2,3,2))\n",
    "#robot.load_robot()\n",
    "#robot.replay_logs('inverse')"
   ]
  },
  {
   "cell_type": "code",
   "execution_count": 3,
   "metadata": {},
   "outputs": [],
   "source": [
    "theta1, d2, d3, theta4, theta5, theta6, d1, d6 = sp.symbols('theta1, d2, d3, theta4, theta5, theta6, d1, d6')\n",
    "sim = PybulletSimulation()\n",
    "sim.connect()\n",
    "sim.load_table()\n",
    "robot = RobotArm((-2,0,0),use_dynamics=False)\n",
    "robot.add_revolute_joint(theta1, d1, 0, 0)\n",
    "robot.add_prismatic_joint(0, d2, 0, -sp.pi/2)\n",
    "robot.add_prismatic_joint(0, d3, 0, 0)\n",
    "robot.add_revolute_joint(theta4, 0.1, 0, sp.pi/2)\n",
    "robot.add_revolute_joint(theta5, 0, 0.1, -sp.pi/2)\n",
    "robot.add_revolute_joint(theta6, 0, 2, 0,)\n",
    "robot.add_subs([(d1, 1)])\n",
    "robot.add_attachment()\n",
    "robot.interact('inverse')\n",
    "#robot.load_robot()\n",
    "#robot.replay_logs('forward',True)"
   ]
  },
  {
   "cell_type": "code",
   "execution_count": 7,
   "metadata": {},
   "outputs": [],
   "source": [
    "robot.convert_logs_to_convert_logs_to_prg('forward')"
   ]
  },
  {
   "cell_type": "code",
   "execution_count": 3,
   "metadata": {},
   "outputs": [],
   "source": [
    "robot.move((2,2,2,0,0,0),(4,2,2,0,0,0))"
   ]
  },
  {
   "cell_type": "code",
   "execution_count": 6,
   "metadata": {},
   "outputs": [],
   "source": [
    "robot = RobotArm()\n",
    "robot.import_robot()\n",
    "robot.interact()"
   ]
  }
 ],
 "metadata": {
  "kernelspec": {
   "display_name": "Python 3.10.6 ('pybullet')",
   "language": "python",
   "name": "python3"
  },
  "language_info": {
   "codemirror_mode": {
    "name": "ipython",
    "version": 3
   },
   "file_extension": ".py",
   "mimetype": "text/x-python",
   "name": "python",
   "nbconvert_exporter": "python",
   "pygments_lexer": "ipython3",
   "version": "3.10.6"
  },
  "orig_nbformat": 4,
  "vscode": {
   "interpreter": {
    "hash": "4ceb928d32af48bf1c49e5d311d84be4f170bbf3f4f9e3b8b975373d49b4e92a"
   }
  }
 },
 "nbformat": 4,
 "nbformat_minor": 2
}
