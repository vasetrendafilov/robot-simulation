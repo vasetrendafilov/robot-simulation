{
 "cells": [
  {
   "cell_type": "markdown",
   "metadata": {},
   "source": [
    "# Creating and simulating custom robot arms"
   ]
  },
  {
   "cell_type": "code",
   "execution_count": 1,
   "metadata": {},
   "outputs": [],
   "source": [
    "import numpy as np\n",
    "import sympy as sp\n",
    "from packages.robot_arm import RobotArm\n",
    "from packages.pybullet_sim import PybulletSimulation"
   ]
  },
  {
   "cell_type": "markdown",
   "metadata": {},
   "source": [
    "### Calculate DH matrix and jacobian of the robot "
   ]
  },
  {
   "cell_type": "code",
   "execution_count": 2,
   "metadata": {},
   "outputs": [],
   "source": [
    "d1, theta2, theta3, d4, l2, l3 = sp.symbols('d1, theta2, theta3, d4, l2, l3')\n",
    "robot = RobotArm()\n",
    "robot.add_prismatic_joint(0, d1, 0, 0)\n",
    "robot.add_revolute_joint(theta2, 0, l2, 0)\n",
    "robot.add_revolute_joint(theta3, 0, l3, sp.pi)\n",
    "robot.add_prismatic_joint(0, d4, 0, 0)\n",
    "robot.add_subs([(l2, 2), (l3, 2)])\n",
    "robot.load_robot()"
   ]
  },
  {
   "cell_type": "code",
   "execution_count": 3,
   "metadata": {},
   "outputs": [
    {
     "data": {
      "text/latex": [
       "$\\displaystyle \\left[\\begin{matrix}\\cos{\\left(\\theta_{2} + \\theta_{3} \\right)} & \\sin{\\left(\\theta_{2} + \\theta_{3} \\right)} & 0 & l_{2} \\cos{\\left(\\theta_{2} \\right)} + l_{3} \\cos{\\left(\\theta_{2} + \\theta_{3} \\right)}\\\\\\sin{\\left(\\theta_{2} + \\theta_{3} \\right)} & - \\cos{\\left(\\theta_{2} + \\theta_{3} \\right)} & 0 & l_{2} \\sin{\\left(\\theta_{2} \\right)} + l_{3} \\sin{\\left(\\theta_{2} + \\theta_{3} \\right)}\\\\0 & 0 & -1 & d_{1} - d_{4}\\\\0 & 0 & 0 & 1\\end{matrix}\\right]$"
      ],
      "text/plain": [
       "Matrix([\n",
       "[cos(theta2 + theta3),  sin(theta2 + theta3),  0, l2*cos(theta2) + l3*cos(theta2 + theta3)],\n",
       "[sin(theta2 + theta3), -cos(theta2 + theta3),  0, l2*sin(theta2) + l3*sin(theta2 + theta3)],\n",
       "[                   0,                     0, -1,                                  d1 - d4],\n",
       "[                   0,                     0,  0,                                        1]])"
      ]
     },
     "execution_count": 3,
     "metadata": {},
     "output_type": "execute_result"
    }
   ],
   "source": [
    "robot.get_dh_matrix()"
   ]
  },
  {
   "cell_type": "code",
   "execution_count": 4,
   "metadata": {},
   "outputs": [
    {
     "data": {
      "text/latex": [
       "$\\displaystyle \\left[\\begin{matrix}0 & - l_{2} \\sin{\\left(\\theta_{2} \\right)} - l_{3} \\sin{\\left(\\theta_{2} + \\theta_{3} \\right)} & - l_{3} \\sin{\\left(\\theta_{2} + \\theta_{3} \\right)} & 0\\\\0 & l_{2} \\cos{\\left(\\theta_{2} \\right)} + l_{3} \\cos{\\left(\\theta_{2} + \\theta_{3} \\right)} & l_{3} \\cos{\\left(\\theta_{2} + \\theta_{3} \\right)} & 0\\\\1 & 0 & 0 & -1\\\\0 & 0 & 0 & 0\\\\0 & 0 & 0 & 0\\\\0 & 1 & 1 & 0\\end{matrix}\\right]$"
      ],
      "text/plain": [
       "Matrix([\n",
       "[0, -l2*sin(theta2) - l3*sin(theta2 + theta3), -l3*sin(theta2 + theta3),  0],\n",
       "[0,  l2*cos(theta2) + l3*cos(theta2 + theta3),  l3*cos(theta2 + theta3),  0],\n",
       "[1,                                         0,                        0, -1],\n",
       "[0,                                         0,                        0,  0],\n",
       "[0,                                         0,                        0,  0],\n",
       "[0,                                         1,                        1,  0]])"
      ]
     },
     "execution_count": 4,
     "metadata": {},
     "output_type": "execute_result"
    }
   ],
   "source": [
    "robot.jacobian()"
   ]
  },
  {
   "cell_type": "markdown",
   "metadata": {},
   "source": [
    "### "
   ]
  },
  {
   "cell_type": "markdown",
   "metadata": {},
   "source": [
    "### Interact with the robot with prismatic gripper"
   ]
  },
  {
   "cell_type": "code",
   "execution_count": 7,
   "metadata": {},
   "outputs": [],
   "source": [
    "theta1, theta2, theta4, d1, d2, d3, a1, a2 = sp.symbols('theta1, theta2, theta4, d1, d2, d3, a1, a2')\n",
    "robot = RobotArm()\n",
    "robot.add_revolute_joint(theta1, d1, a1, 0)\n",
    "robot.add_revolute_joint(theta2, 0, a2, -sp.pi)\n",
    "robot.add_prismatic_joint(0, d3, 0, 0)\n",
    "robot.add_revolute_joint(theta4, 0, 0, 0)\n",
    "robot.add_subs([(d1, 3),(a1, 3),(a2, 3)])\n",
    "robot.add_attachment()\n",
    "robot.interact('inverse')"
   ]
  },
  {
   "cell_type": "markdown",
   "metadata": {},
   "source": [
    "### Interact with the robot with revolute gripper"
   ]
  },
  {
   "cell_type": "code",
   "execution_count": 6,
   "metadata": {},
   "outputs": [],
   "source": [
    "theta1, d2, d3, theta4, theta5, theta6 = sp.symbols('theta1, d2, d3, theta4, theta5, theta6')\n",
    "robot = RobotArm()\n",
    "robot.add_revolute_joint(theta1, 1, 0, 0)\n",
    "robot.add_prismatic_joint(0, d2, 0, -sp.pi/2)\n",
    "robot.add_prismatic_joint(0, d3, 0, 0)\n",
    "robot.add_revolute_joint(theta4, 0.1, 0, sp.pi/2)\n",
    "robot.add_revolute_joint(theta5, 0, 0.1, -sp.pi/2)\n",
    "robot.add_revolute_joint(theta6, 0, 2, 0,)\n",
    "robot.add_attachment('revolute_gripper',orientation = (0,-90,0))\n",
    "robot.attachment_open_targets = (0.548,0.548)\n",
    "robot.attachment_close_targets = (0,0)\n",
    "robot.interact()"
   ]
  },
  {
   "cell_type": "markdown",
   "metadata": {},
   "source": [
    "### Import existing robot and replay saved logs"
   ]
  },
  {
   "cell_type": "code",
   "execution_count": 8,
   "metadata": {},
   "outputs": [],
   "source": [
    "robot = RobotArm()\n",
    "robot.import_robot('robot_arms/my_robot/my_robot.urdf')\n",
    "robot.load_robot()\n",
    "robot.replay_logs('inverse')"
   ]
  },
  {
   "cell_type": "markdown",
   "metadata": {},
   "source": [
    "### Example for detecting an object and picking it up with the arm"
   ]
  },
  {
   "cell_type": "code",
   "execution_count": 12,
   "metadata": {},
   "outputs": [],
   "source": [
    "sim = PybulletSimulation()\n",
    "sim.connect()\n",
    "sim.load_table()\n",
    "# place a lego randomly on the table\n",
    "sim.load_lego((np.random.uniform(-1.5,1.5), np.random.uniform(-1.5,1.5),1),scaling=10) \n",
    "robot = RobotArm((-3,0,0.4),joint_forces=400)\n",
    "robot.import_robot('robot_arms/my_robot/my_robot.urdf')\n",
    "# set the dynamic condition to have grater precision\n",
    "robot.set_dynamic_conditions(1000,0.001) \n",
    "robot.load_robot()"
   ]
  },
  {
   "cell_type": "markdown",
   "metadata": {},
   "source": [
    "#### Steps to find and take the object:\n",
    "* Move to the center of the table\n",
    "* Take the picture from the end effector\n",
    "* Find the average coordinates for the lego with the segmentation image\n",
    "* Convert back to world coordinates \n",
    "* Bring that point up by 0.75 to better place the gripper\n",
    "* Move to the target and pick up the object"
   ]
  },
  {
   "cell_type": "code",
   "execution_count": 13,
   "metadata": {},
   "outputs": [
    {
     "data": {
      "text/plain": [
       "True"
      ]
     },
     "execution_count": 13,
     "metadata": {},
     "output_type": "execute_result"
    }
   ],
   "source": [
    "robot.move2point((0,0,2.5),(180,0,0))\n",
    "camera = robot.capture_image(fov=80,capture_now=True)\n",
    "h,w = np.mean((np.where(camera.seg == 1)), axis=1)\n",
    "h,w = round(h),round(w)\n",
    "target_position = camera.rgbd_2_world(w,h,camera.depth[h,w]) +[0,0,0.75]\n",
    "robot.move2point(target_position,(180,0,0))\n",
    "robot.actuate_attachment(joint_targets = robot.attachment_close_targets)\n",
    "robot.move2point((0,0,2),(180,0,0))"
   ]
  },
  {
   "cell_type": "code",
   "execution_count": 14,
   "metadata": {},
   "outputs": [
    {
     "data": {
      "text/plain": [
       "True"
      ]
     },
     "execution_count": 14,
     "metadata": {},
     "output_type": "execute_result"
    }
   ],
   "source": [
    "robot.quit_simulation(True)"
   ]
  }
 ],
 "metadata": {
  "kernelspec": {
   "display_name": "Python 3.11.0 ('mejbi')",
   "language": "python",
   "name": "python3"
  },
  "language_info": {
   "codemirror_mode": {
    "name": "ipython",
    "version": 3
   },
   "file_extension": ".py",
   "mimetype": "text/x-python",
   "name": "python",
   "nbconvert_exporter": "python",
   "pygments_lexer": "ipython3",
   "version": "3.11.0"
  },
  "orig_nbformat": 4,
  "vscode": {
   "interpreter": {
    "hash": "632234ccdda8c3869ebc5d38cf454c2655693afd72da514444530376665f1a3e"
   }
  }
 },
 "nbformat": 4,
 "nbformat_minor": 2
}
