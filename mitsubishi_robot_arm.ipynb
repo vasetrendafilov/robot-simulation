{
 "cells": [
  {
   "cell_type": "markdown",
   "metadata": {},
   "source": [
    "# Simulate the mitsubishi RV-2F-Q robot arm"
   ]
  },
  {
   "cell_type": "code",
   "execution_count": 1,
   "metadata": {},
   "outputs": [],
   "source": [
    "from packages.robot_arm import RobotArm\n",
    "from packages.pybullet_sim import PybulletSimulation"
   ]
  },
  {
   "cell_type": "markdown",
   "metadata": {},
   "source": [
    "### Interact with the gripper version of the arm"
   ]
  },
  {
   "cell_type": "code",
   "execution_count": 2,
   "metadata": {},
   "outputs": [],
   "source": [
    "sim = PybulletSimulation()\n",
    "sim.connect()\n",
    "sim.load_table()\n",
    "sim.load_tray()\n",
    "sim.load_common_objects()\n",
    "robot = RobotArm((-2.2,0,0))\n",
    "robot.camera_offset = (0,0,0.02)\n",
    "robot.import_foreign_robot('robot_arms/mitsubishi/RV2FQG.urdf',8)\n",
    "robot.interact('inverse')"
   ]
  },
  {
   "cell_type": "markdown",
   "metadata": {},
   "source": [
    "### Setup the robot arm to move it trough code"
   ]
  },
  {
   "cell_type": "code",
   "execution_count": 5,
   "metadata": {},
   "outputs": [],
   "source": [
    "sim = PybulletSimulation()\n",
    "sim.connect()\n",
    "sim.load_table()\n",
    "robot = RobotArm(use_dynamics=False) # do not use dynamics if you like faster results \n",
    "robot.import_foreign_robot('robot_arms/mitsubishi/RV2FQ.urdf',8)\n",
    "robot.set_position_limits(1.8,3.5,-3,3,0.3,4)\n",
    "robot.load_robot()\n",
    "robot.reset_joints([0,0,2,0,0,0]) # used to help the ik"
   ]
  },
  {
   "cell_type": "markdown",
   "metadata": {},
   "source": [
    "#### Write text"
   ]
  },
  {
   "cell_type": "code",
   "execution_count": 6,
   "metadata": {},
   "outputs": [],
   "source": [
    "robot.write_text('FEIT',[2.3,-1.5,2],(180,0,0),log_text=True)"
   ]
  },
  {
   "cell_type": "markdown",
   "metadata": {},
   "source": [
    "#### Linear interpolation"
   ]
  },
  {
   "cell_type": "code",
   "execution_count": 7,
   "metadata": {},
   "outputs": [],
   "source": [
    "robot.move((3,-2,3,180,0,0),(2,3,2,180,0,0))"
   ]
  },
  {
   "cell_type": "markdown",
   "metadata": {},
   "source": [
    "#### Circular interpolation"
   ]
  },
  {
   "cell_type": "code",
   "execution_count": 8,
   "metadata": {},
   "outputs": [],
   "source": [
    "robot.move((3.8,0,0,180,0,0),(4,0,0,180,0,0),(0,-45,0),'circular',60,param=(1,1,1,0),log_move=True)"
   ]
  },
  {
   "cell_type": "markdown",
   "metadata": {},
   "source": [
    "#### Capture image from end effector"
   ]
  },
  {
   "cell_type": "code",
   "execution_count": 9,
   "metadata": {},
   "outputs": [],
   "source": [
    "robot.move2point((2,0,3),(180,0,0))\n",
    "camera = robot.capture_image(capture_now=True)"
   ]
  },
  {
   "cell_type": "markdown",
   "metadata": {},
   "source": [
    "### Replay saved logs"
   ]
  },
  {
   "cell_type": "code",
   "execution_count": 10,
   "metadata": {},
   "outputs": [],
   "source": [
    "robot.replay_logs('move_circular')"
   ]
  },
  {
   "cell_type": "markdown",
   "metadata": {},
   "source": [
    "#### Convert saved logs to RT Toolbox 2 program file"
   ]
  },
  {
   "cell_type": "code",
   "execution_count": 11,
   "metadata": {},
   "outputs": [],
   "source": [
    "robot.convert_logs_to_prg('FEIT','feit')"
   ]
  }
 ],
 "metadata": {
  "kernelspec": {
   "display_name": "Python 3.11.0 ('mejbi')",
   "language": "python",
   "name": "python3"
  },
  "language_info": {
   "codemirror_mode": {
    "name": "ipython",
    "version": 3
   },
   "file_extension": ".py",
   "mimetype": "text/x-python",
   "name": "python",
   "nbconvert_exporter": "python",
   "pygments_lexer": "ipython3",
   "version": "3.11.0"
  },
  "orig_nbformat": 4,
  "vscode": {
   "interpreter": {
    "hash": "632234ccdda8c3869ebc5d38cf454c2655693afd72da514444530376665f1a3e"
   }
  }
 },
 "nbformat": 4,
 "nbformat_minor": 2
}
