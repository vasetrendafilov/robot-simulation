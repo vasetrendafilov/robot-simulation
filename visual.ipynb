{
 "cells": [
  {
   "cell_type": "code",
   "execution_count": 1,
   "metadata": {},
   "outputs": [],
   "source": [
    "import pybullet as p\n",
    "import pybullet_data as pd\n",
    "import math\n",
    "import time\n",
    "import numpy as np\n",
    "import sympy as sp\n",
    "from numpy import sin, cos, pi\n",
    "import panda as panda_sim\n"
   ]
  },
  {
   "cell_type": "code",
   "execution_count": 2,
   "metadata": {},
   "outputs": [],
   "source": [
    "p.connect(p.GUI)\n",
    "p.configureDebugVisualizer(lightPosition= (0,0,10))\n",
    "p.setAdditionalSearchPath(r'C:\\Users\\vase_\\Downloads\\robot-simulation')\n",
    "p.resetDebugVisualizerCamera( cameraDistance=15, cameraYaw=15, cameraPitch=-20, cameraTargetPosition=[0,0,0])\n",
    "p.configureDebugVisualizer(p.COV_ENABLE_SHADOWS,0)\n"
   ]
  },
  {
   "cell_type": "code",
   "execution_count": 3,
   "metadata": {},
   "outputs": [
    {
     "data": {
      "text/plain": [
       "0"
      ]
     },
     "execution_count": 3,
     "metadata": {},
     "output_type": "execute_result"
    }
   ],
   "source": [
    "orn=[0, 0.0, 0.0, 1]\n",
    "flags = p.URDF_ENABLE_CACHED_GRAPHICS_SHAPES\n",
    "p.loadURDF(\"outfile.urdf\", np.array([0,0,0]), orn, useFixedBase=True, flags=flags)"
   ]
  },
  {
   "cell_type": "code",
   "execution_count": 4,
   "metadata": {},
   "outputs": [],
   "source": [
    "parameters = []\n",
    "joints = []\n",
    "for i in range(p.getNumJoints(0)):\n",
    "    joint_info = p.getJointInfo(0,i)\n",
    "    if joint_info[2] == p.JOINT_PRISMATIC:\n",
    "        joints.append(i)\n",
    "        p.resetJointState(0,i,0)\n",
    "        parameters.append((False,p.addUserDebugParameter(\"D\"+str(i),joint_info[8],joint_info[9],1)))\n",
    "    if joint_info[2] == p.JOINT_REVOLUTE:\n",
    "        joints.append(i)\n",
    "        p.resetJointState(0,i,0)\n",
    "        parameters.append((True,p.addUserDebugParameter(\"Theta\"+str(i),np.rad2deg(joint_info[8]),np.rad2deg(joint_info[9]),0)))"
   ]
  },
  {
   "cell_type": "code",
   "execution_count": 5,
   "metadata": {},
   "outputs": [
    {
     "name": "stdout",
     "output_type": "stream",
     "text": [
      "[['r', 0.0, 1.0, 0.0, 1.5707963267949], ['r', 0.0, 0.0, 1.0, 1.5707963267949], ['p', 0.0, 2.0, 0.0, 0.0]]\n"
     ]
    }
   ],
   "source": [
    "file1 = open('outfile.urdf', 'r')\n",
    "Lines = file1.readlines()\n",
    "  \n",
    "count = 0\n",
    "DH_Params = []\n",
    "# Strips the newline character\n",
    "for line in Lines[1:]:\n",
    "    if line.strip() == '-->':\n",
    "        break\n",
    "    dhlist = line.strip().split(',')\n",
    "    DH_Params.append([dhlist[0]]+[float(param) for param in dhlist[1:]])\n",
    "print(DH_Params)\n",
    "    "
   ]
  },
  {
   "cell_type": "code",
   "execution_count": 11,
   "metadata": {},
   "outputs": [],
   "source": [
    "def DH_trans(DH, joint_val=0):\n",
    "\n",
    "    d, theta, a, alpha = (0,0,0,0)\n",
    "\n",
    "    if (DH[0] == 'r'):\n",
    "\n",
    "        d, theta, a, alpha = (DH[1], joint_val, DH[2], DH[3])\n",
    "\n",
    "    elif (DH[0] == 'p'):\n",
    "\n",
    "        d, theta, a, alpha = (joint_val, DH[1], DH[2], DH[3])\n",
    "\n",
    "    elif (DH[0] == 'f'):\n",
    "\n",
    "        d, theta, a, alpha = (DH[1], DH[2], DH[3], DH[4])\n",
    "\n",
    "    trans_mat = np.array([[cos(theta), -1*sin(theta)*cos(alpha), sin(theta)*sin(alpha),    a*cos(theta)],\n",
    "                          [sin(theta), cos(theta)*cos(alpha),    -1*cos(theta)*sin(alpha), a*sin(theta)],\n",
    "                          [0,          sin(alpha),               cos(alpha),               d           ],\n",
    "                          [0,          0,                        0,                        1           ]])\n",
    "\n",
    "    return trans_mat\n",
    "\n",
    "\n",
    "def joint_transforms(DH_Params):\n",
    "\n",
    "    transforms = []\n",
    "\n",
    "    current_DOF = 0\n",
    "\n",
    "    transforms.append(np.eye(4))\n",
    "    i=0\n",
    "    for DH in DH_Params:\n",
    "        if(DH[0] != 'f'):\n",
    "            transforms.append(DH_trans(DH, jointpos[i][0]))\n",
    "            i+=1\n",
    "        else:\n",
    "            transforms.append(DH_trans(DH))\n",
    "\n",
    "    return transforms\n",
    "\n",
    "def joint_frames(transforms):\n",
    "         \n",
    "         joint_frames = [transforms[0]]\n",
    " \n",
    "         for trans in transforms[1:]:\n",
    " \n",
    "             joint_frames.append(joint_frames[-1] @ trans)\n",
    " \n",
    "         return joint_frames\n",
    "def axis_lines(pose,line_length=1):\n",
    "    t = pose[:3, -1]\n",
    "    line_n = [t, t + line_length*pose[:3,0]]\n",
    "    line_o = [t, t + line_length*pose[:3,1]]\n",
    "    line_a = [t, t + line_length*pose[:3,2]]\n",
    "    return line_n, line_o, line_a"
   ]
  },
  {
   "cell_type": "code",
   "execution_count": 14,
   "metadata": {},
   "outputs": [],
   "source": [
    "jointpos = p.getJointStates(0,joints)"
   ]
  },
  {
   "cell_type": "code",
   "execution_count": 16,
   "metadata": {},
   "outputs": [
    {
     "name": "stdout",
     "output_type": "stream",
     "text": [
      "None\n"
     ]
    }
   ],
   "source": [
    "print(jointpos)"
   ]
  },
  {
   "cell_type": "code",
   "execution_count": 12,
   "metadata": {},
   "outputs": [
    {
     "name": "stdout",
     "output_type": "stream",
     "text": [
      "['r', 0.0, 1.0, 0.0, 1.5707963267949]\n"
     ]
    },
    {
     "ename": "TypeError",
     "evalue": "'NoneType' object is not subscriptable",
     "output_type": "error",
     "traceback": [
      "\u001b[1;31m---------------------------------------------------------------------------\u001b[0m",
      "\u001b[1;31mTypeError\u001b[0m                                 Traceback (most recent call last)",
      "Cell \u001b[1;32mIn [12], line 2\u001b[0m\n\u001b[0;32m      1\u001b[0m jointpos \u001b[39m=\u001b[39m p\u001b[39m.\u001b[39mgetJointStates(\u001b[39m0\u001b[39m,joints)\n\u001b[1;32m----> 2\u001b[0m transforms \u001b[39m=\u001b[39m joint_transforms(DH_Params)\n\u001b[0;32m      3\u001b[0m frames \u001b[39m=\u001b[39m joint_frames(transforms)\n\u001b[0;32m      4\u001b[0m axes \u001b[39m=\u001b[39m []\n",
      "Cell \u001b[1;32mIn [11], line 37\u001b[0m, in \u001b[0;36mjoint_transforms\u001b[1;34m(DH_Params)\u001b[0m\n\u001b[0;32m     35\u001b[0m \u001b[39mif\u001b[39;00m(DH[\u001b[39m0\u001b[39m] \u001b[39m!=\u001b[39m \u001b[39m'\u001b[39m\u001b[39mf\u001b[39m\u001b[39m'\u001b[39m):\n\u001b[0;32m     36\u001b[0m     \u001b[39mprint\u001b[39m(DH)\n\u001b[1;32m---> 37\u001b[0m     transforms\u001b[39m.\u001b[39mappend(DH_trans(DH, jointpos[i][\u001b[39m0\u001b[39m]))\n\u001b[0;32m     38\u001b[0m     i\u001b[39m+\u001b[39m\u001b[39m=\u001b[39m\u001b[39m1\u001b[39m\n\u001b[0;32m     39\u001b[0m \u001b[39melse\u001b[39;00m:\n",
      "\u001b[1;31mTypeError\u001b[0m: 'NoneType' object is not subscriptable"
     ]
    }
   ],
   "source": [
    "jointpos = p.getJointStates(0,joints)\n",
    "transforms = joint_transforms(DH_Params)\n",
    "frames = joint_frames(transforms)\n",
    "axes = []\n",
    "for joint in range(0,p.getNumJoints(0),2):\n",
    "    line_n, line_o, line_a = axis_lines(transforms[joint//2+1] ,1)\n",
    "    axes.append(p.addUserDebugLine(line_n[0], line_n[1], parentObjectUniqueId=0,parentLinkIndex=joint,lineColorRGB=(1,0,0), lineWidth = 2))\n",
    "    axes.append(p.addUserDebugLine(line_a[0], line_a[1], parentObjectUniqueId=0,parentLinkIndex=joint,lineColorRGB=(0,0,1), lineWidth = 2))"
   ]
  },
  {
   "cell_type": "code",
   "execution_count": 7,
   "metadata": {},
   "outputs": [],
   "source": [
    "a = p.addUserDebugParameter(\"shutdown\",1,0,0)"
   ]
  },
  {
   "cell_type": "code",
   "execution_count": 8,
   "metadata": {},
   "outputs": [
    {
     "name": "stdout",
     "output_type": "stream",
     "text": [
      "ok\n",
      "ok\n",
      "ok\n",
      "ok\n",
      "ok\n",
      "ok\n",
      "ok\n",
      "ok\n",
      "ok\n",
      "ok\n",
      "ok\n",
      "ok\n",
      "ok\n",
      "ok\n",
      "ok\n",
      "ok\n",
      "ok\n",
      "ok\n",
      "ok\n",
      "ok\n",
      "ok\n",
      "ok\n",
      "ok\n",
      "ok\n",
      "ok\n",
      "ok\n",
      "ok\n",
      "ok\n",
      "ok\n",
      "ok\n",
      "ok\n",
      "ok\n",
      "ok\n",
      "ok\n",
      "ok\n",
      "ok\n",
      "ok\n",
      "ok\n",
      "ok\n",
      "ok\n",
      "ok\n",
      "ok\n",
      "ok\n",
      "ok\n",
      "ok\n",
      "ok\n",
      "ok\n",
      "ok\n",
      "ok\n",
      "ok\n",
      "ok\n",
      "ok\n",
      "ok\n",
      "ok\n",
      "ok\n",
      "ok\n",
      "ok\n",
      "ok\n",
      "ok\n",
      "ok\n",
      "ok\n",
      "ok\n",
      "ok\n",
      "ok\n",
      "ok\n",
      "ok\n",
      "ok\n",
      "ok\n",
      "ok\n",
      "ok\n",
      "ok\n",
      "ok\n",
      "ok\n",
      "ok\n",
      "ok\n",
      "ok\n",
      "ok\n",
      "ok\n",
      "ok\n",
      "ok\n",
      "ok\n",
      "ok\n",
      "ok\n",
      "ok\n",
      "ok\n",
      "ok\n",
      "ok\n",
      "ok\n",
      "ok\n",
      "ok\n",
      "ok\n",
      "ok\n",
      "ok\n",
      "ok\n",
      "ok\n",
      "ok\n",
      "ok\n",
      "ok\n",
      "ok\n",
      "ok\n",
      "ok\n",
      "ok\n",
      "ok\n",
      "ok\n",
      "ok\n",
      "ok\n",
      "ok\n",
      "ok\n",
      "ok\n",
      "ok\n",
      "ok\n",
      "ok\n",
      "ok\n",
      "ok\n",
      "ok\n",
      "ok\n",
      "ok\n",
      "ok\n",
      "ok\n",
      "ok\n",
      "ok\n",
      "ok\n",
      "ok\n",
      "ok\n",
      "ok\n",
      "ok\n",
      "ok\n",
      "ok\n",
      "ok\n",
      "ok\n",
      "ok\n",
      "ok\n",
      "ok\n",
      "ok\n",
      "ok\n",
      "ok\n",
      "ok\n",
      "ok\n",
      "ok\n",
      "ok\n",
      "ok\n",
      "ok\n",
      "ok\n",
      "ok\n",
      "ok\n",
      "ok\n",
      "ok\n",
      "ok\n",
      "ok\n",
      "ok\n",
      "ok\n",
      "ok\n",
      "ok\n",
      "ok\n",
      "ok\n",
      "ok\n",
      "ok\n",
      "ok\n",
      "ok\n",
      "ok\n",
      "ok\n",
      "ok\n",
      "ok\n",
      "ok\n",
      "ok\n",
      "ok\n",
      "ok\n",
      "ok\n",
      "ok\n",
      "ok\n",
      "ok\n",
      "ok\n",
      "ok\n",
      "ok\n",
      "ok\n",
      "ok\n",
      "ok\n",
      "ok\n",
      "ok\n",
      "ok\n",
      "ok\n",
      "ok\n",
      "ok\n",
      "ok\n",
      "ok\n",
      "ok\n",
      "ok\n",
      "ok\n",
      "ok\n",
      "ok\n",
      "ok\n",
      "ok\n",
      "ok\n",
      "ok\n",
      "ok\n",
      "ok\n",
      "ok\n",
      "ok\n",
      "ok\n",
      "ok\n",
      "ok\n",
      "ok\n",
      "ok\n",
      "ok\n",
      "ok\n"
     ]
    },
    {
     "ename": "KeyboardInterrupt",
     "evalue": "",
     "output_type": "error",
     "traceback": [
      "\u001b[1;31m---------------------------------------------------------------------------\u001b[0m",
      "\u001b[1;31mKeyboardInterrupt\u001b[0m                         Traceback (most recent call last)",
      "Cell \u001b[1;32mIn [8], line 11\u001b[0m\n\u001b[0;32m      9\u001b[0m \u001b[39mif\u001b[39;00m p\u001b[39m.\u001b[39mreadUserDebugParameter(a):\n\u001b[0;32m     10\u001b[0m \t\u001b[39mprint\u001b[39m(\u001b[39m'\u001b[39m\u001b[39mok\u001b[39m\u001b[39m'\u001b[39m)\n\u001b[1;32m---> 11\u001b[0m time\u001b[39m.\u001b[39;49msleep(timeStep)\n",
      "\u001b[1;31mKeyboardInterrupt\u001b[0m: "
     ]
    }
   ],
   "source": [
    "timeStep=1./60.\n",
    "p.setTimeStep(timeStep)\n",
    "p.setGravity(0,-9.8,0)\n",
    " \n",
    "while (1):\n",
    "\tp.stepSimulation()\n",
    "\ttargets = [(np.deg2rad(p.readUserDebugParameter(parameter)) if revolute else p.readUserDebugParameter(parameter)) for revolute,parameter in parameters]\n",
    "\tp.setJointMotorControlArray(0,joints,p.POSITION_CONTROL,targets)\n",
    "\tif p.readUserDebugParameter(a):\n",
    "\t\tprint('ok')\n",
    "\ttime.sleep(timeStep)"
   ]
  },
  {
   "cell_type": "code",
   "execution_count": null,
   "metadata": {},
   "outputs": [],
   "source": [
    "jointpos = p.getJointStates(0,joints)\n",
    "transforms = joint_transforms(DH_Params)\n",
    "frames = joint_frames(transforms)\n",
    "axes=[]\n",
    "i=0\n",
    "for frame in frames:\n",
    "    line_n, line_o, line_a = axis_lines(frame,1)\n",
    "    axes.append(p.addUserDebugLine(line_n[0], line_n[1], parentObjectUniqueId=0,lineColorRGB=(1,0,0), lineWidth = 2))\n",
    "    axes.append(p.addUserDebugLine(line_a[0], line_a[1], parentObjectUniqueId=0,lineColorRGB=(0,0,1), lineWidth = 2))\n",
    "    i+=2"
   ]
  },
  {
   "cell_type": "code",
   "execution_count": null,
   "metadata": {},
   "outputs": [
    {
     "ename": "error",
     "evalue": "Not connected to physics server.",
     "output_type": "error",
     "traceback": [
      "\u001b[1;31m---------------------------------------------------------------------------\u001b[0m",
      "\u001b[1;31merror\u001b[0m                                     Traceback (most recent call last)",
      "Cell \u001b[1;32mIn [11], line 15\u001b[0m\n\u001b[0;32m     13\u001b[0m \tline_n, line_o, line_a \u001b[39m=\u001b[39m axis_lines(frame,\u001b[39m1\u001b[39m)\n\u001b[0;32m     14\u001b[0m \tp\u001b[39m.\u001b[39maddUserDebugLine(line_n[\u001b[39m0\u001b[39m], line_n[\u001b[39m1\u001b[39m], parentObjectUniqueId\u001b[39m=\u001b[39m\u001b[39m0\u001b[39m,lineColorRGB\u001b[39m=\u001b[39m(\u001b[39m1\u001b[39m,\u001b[39m0\u001b[39m,\u001b[39m0\u001b[39m), lineWidth \u001b[39m=\u001b[39m \u001b[39m2\u001b[39m,replaceItemUniqueId \u001b[39m=\u001b[39m axes[i])\n\u001b[1;32m---> 15\u001b[0m \tp\u001b[39m.\u001b[39;49maddUserDebugLine(line_a[\u001b[39m0\u001b[39;49m], line_a[\u001b[39m1\u001b[39;49m], parentObjectUniqueId\u001b[39m=\u001b[39;49m\u001b[39m0\u001b[39;49m,lineColorRGB\u001b[39m=\u001b[39;49m(\u001b[39m0\u001b[39;49m,\u001b[39m0\u001b[39;49m,\u001b[39m1\u001b[39;49m), lineWidth \u001b[39m=\u001b[39;49m \u001b[39m2\u001b[39;49m,replaceItemUniqueId \u001b[39m=\u001b[39;49m axes[i\u001b[39m+\u001b[39;49m\u001b[39m1\u001b[39;49m])\n\u001b[0;32m     16\u001b[0m \ti\u001b[39m+\u001b[39m\u001b[39m=\u001b[39m\u001b[39m2\u001b[39m\n\u001b[0;32m     17\u001b[0m time\u001b[39m.\u001b[39msleep(timeStep)\n",
      "\u001b[1;31merror\u001b[0m: Not connected to physics server."
     ]
    }
   ],
   "source": [
    "timeStep=1./60.\n",
    "p.setTimeStep(timeStep)\n",
    "p.setGravity(0,-9.8,0)\n",
    " \n",
    "while (1):\n",
    "\tp.stepSimulation()\n",
    "\ttargets = [(np.deg2rad(p.readUserDebugParameter(parameter)) if revolute else p.readUserDebugParameter(parameter)) for revolute,parameter in parameters]\n",
    "\tp.setJointMotorControlArray(0,joints,p.POSITION_CONTROL,targets)\n",
    "\tjointpos = p.getJointStates(0,joints)\n",
    "\tframes = joint_frames(joint_transforms(DH_Params))\n",
    "\ti=0\n",
    "\tfor frame in frames:\n",
    "\t\tline_n, line_o, line_a = axis_lines(frame,1)\n",
    "\t\tp.addUserDebugLine(line_n[0], line_n[1], parentObjectUniqueId=0,lineColorRGB=(1,0,0), lineWidth = 2,replaceItemUniqueId = axes[i])\n",
    "\t\tp.addUserDebugLine(line_a[0], line_a[1], parentObjectUniqueId=0,lineColorRGB=(0,0,1), lineWidth = 2,replaceItemUniqueId = axes[i+1])\n",
    "\t\ti+=2\n",
    "\ttime.sleep(timeStep)"
   ]
  },
  {
   "cell_type": "code",
   "execution_count": null,
   "metadata": {},
   "outputs": [],
   "source": [
    "jointpos = p.getJointStates(0,joints)\n",
    "transforms = joint_transforms(DH_Params)\n",
    "frames = joint_frames(transforms)\n",
    "axes = []\n",
    "for joint in range(0,p.getNumJoints(0),2):\n",
    "    rotm = np.copy(frames[joint//2])\n",
    "    rotm[0,3] = rotm[1,3] = rotm[2,3] = 0\n",
    "    line_n, line_o, line_a = axis_lines(rotm.dot(transforms[joint//2+1]) ,1)\n",
    "    print( joint)\n",
    "    axes.append(p.addUserDebugLine(line_n[0], line_n[1], parentObjectUniqueId=0,parentLinkIndex=joint,lineColorRGB=(1,0,0), lineWidth = 2))\n",
    "    axes.append(p.addUserDebugLine(line_a[0], line_a[1], parentObjectUniqueId=0,parentLinkIndex=joint,lineColorRGB=(0,0,1), lineWidth = 2))"
   ]
  }
 ],
 "metadata": {
  "kernelspec": {
   "display_name": "Python 3.10.6 ('pybullet')",
   "language": "python",
   "name": "python3"
  },
  "language_info": {
   "codemirror_mode": {
    "name": "ipython",
    "version": 3
   },
   "file_extension": ".py",
   "mimetype": "text/x-python",
   "name": "python",
   "nbconvert_exporter": "python",
   "pygments_lexer": "ipython3",
   "version": "3.10.6"
  },
  "orig_nbformat": 4,
  "vscode": {
   "interpreter": {
    "hash": "4ceb928d32af48bf1c49e5d311d84be4f170bbf3f4f9e3b8b975373d49b4e92a"
   }
  }
 },
 "nbformat": 4,
 "nbformat_minor": 2
}
